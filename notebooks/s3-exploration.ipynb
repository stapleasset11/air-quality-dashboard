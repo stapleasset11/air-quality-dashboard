{
 "cells": [
  {
   "cell_type": "code",
   "execution_count": 2,
   "metadata": {},
   "outputs": [],
   "source": [
    "import pandas as pd \n",
    "import duckdb as ddb"
   ]
  },
  {
   "cell_type": "code",
   "execution_count": 3,
   "metadata": {},
   "outputs": [],
   "source": [
    "ddb.sql(\"INSTALL httpfs; LOAD httpfs\")"
   ]
  },
  {
   "cell_type": "code",
   "execution_count": 4,
   "metadata": {},
   "outputs": [],
   "source": [
    "con = ddb.connect(\"../air_quality.db\")"
   ]
  },
  {
   "cell_type": "code",
   "execution_count": 5,
   "metadata": {},
   "outputs": [
    {
     "data": {
      "text/plain": [
       "<duckdb.duckdb.DuckDBPyConnection at 0x7226ed5477b0>"
      ]
     },
     "execution_count": 5,
     "metadata": {},
     "output_type": "execute_result"
    }
   ],
   "source": [
    "con.execute(\"CREATE schema IF NOT EXISTS raw\")"
   ]
  },
  {
   "cell_type": "code",
   "execution_count": 6,
   "metadata": {},
   "outputs": [],
   "source": [
    "con.sql(\"\"\"\n",
    "    SET s3_access_key_id='';\n",
    "    SET s3_secret_access_key='';\n",
    "    SET s3_region='';\n",
    "\"\"\")"
   ]
  },
  {
   "cell_type": "code",
   "execution_count": 7,
   "metadata": {},
   "outputs": [
    {
     "data": {
      "text/plain": [
       "<duckdb.duckdb.DuckDBPyConnection at 0x7226ed5477b0>"
      ]
     },
     "execution_count": 7,
     "metadata": {},
     "output_type": "execute_result"
    }
   ],
   "source": [
    "con.execute(\"\"\"\n",
    "    CREATE TABLE IF NOT EXISTS raw.air_quality_data (\n",
    "        location_id BIGINT,\n",
    "        sensors_id BIGINT,\n",
    "        \"location\" VARCHAR,\n",
    "        \"datetime\" TIMESTAMP,\n",
    "        lat DOUBLE,\n",
    "        lon DOUBLE,\n",
    "        \"parameter\" VARCHAR,\n",
    "        units VARCHAR,\n",
    "        \"value\" DOUBLE,\n",
    "        \"month\" VARCHAR,\n",
    "        \"year\" BIGINT,\n",
    "        ingestion_datetime TIMESTAMP\n",
    "    );\n",
    "\n",
    "\"\"\")"
   ]
  },
  {
   "cell_type": "code",
   "execution_count": 8,
   "metadata": {},
   "outputs": [
    {
     "data": {
      "text/plain": [
       "<duckdb.duckdb.DuckDBPyConnection at 0x7226ed5477b0>"
      ]
     },
     "execution_count": 8,
     "metadata": {},
     "output_type": "execute_result"
    }
   ],
   "source": [
    "con.execute(\"\"\"\n",
    "INSERT INTO raw.air_quality_data\n",
    "SELECT \n",
    "    location_id, \n",
    "    sensors_id, \n",
    "    \"location\", \n",
    "    \"datetime\", \n",
    "    lat, \n",
    "    lon, \n",
    "    \"parameter\", \n",
    "    units, \n",
    "    \"value\",\n",
    "    \"month\", \n",
    "    \"year\",\n",
    "    current_timestamp AS ingestion_datetime\n",
    "FROM read_csv('s3://openaq-data-archive/records/csv.gz/locationid=225393/year=2024/month=01/*.csv.gz');\n",
    "\"\"\")"
   ]
  },
  {
   "cell_type": "code",
   "execution_count": 9,
   "metadata": {},
   "outputs": [],
   "source": [
    "con.close()"
   ]
  },
  {
   "cell_type": "code",
   "execution_count": null,
   "metadata": {},
   "outputs": [],
   "source": []
  },
  {
   "cell_type": "code",
   "execution_count": null,
   "metadata": {},
   "outputs": [],
   "source": []
  }
 ],
 "metadata": {
  "kernelspec": {
   "display_name": "venv",
   "language": "python",
   "name": "python3"
  },
  "language_info": {
   "codemirror_mode": {
    "name": "ipython",
    "version": 3
   },
   "file_extension": ".py",
   "mimetype": "text/x-python",
   "name": "python",
   "nbconvert_exporter": "python",
   "pygments_lexer": "ipython3",
   "version": "3.12.3"
  }
 },
 "nbformat": 4,
 "nbformat_minor": 2
}
