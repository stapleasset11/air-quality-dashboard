{
 "cells": [
  {
   "cell_type": "code",
   "execution_count": 33,
   "metadata": {},
   "outputs": [],
   "source": [
    "import json\n",
    "from openaq import OpenAQ"
   ]
  },
  {
   "cell_type": "code",
   "execution_count": 34,
   "metadata": {},
   "outputs": [],
   "source": [
    "with open(\"../secrets.json\") as f:\n",
    "    secrets = json.load(f)\n",
    "    f.close()\n",
    "\n",
    "\n",
    "openaq_key = secrets[\"openaq-api-key\"]"
   ]
  },
  {
   "cell_type": "code",
   "execution_count": 35,
   "metadata": {},
   "outputs": [
    {
     "data": {
      "text/plain": [
       "<openaq._sync.client.OpenAQ at 0x7e1ea01379b0>"
      ]
     },
     "execution_count": 35,
     "metadata": {},
     "output_type": "execute_result"
    }
   ],
   "source": [
    "client = OpenAQ(api_key = openaq_key)\n",
    "\n",
    "client"
   ]
  },
  {
   "cell_type": "code",
   "execution_count": 36,
   "metadata": {},
   "outputs": [
    {
     "data": {
      "text/plain": [
       "Meta(name='openaq-api', website='/', page=1, limit=1000, found=76)"
      ]
     },
     "execution_count": 36,
     "metadata": {},
     "output_type": "execute_result"
    }
   ],
   "source": [
    "sa_bbox_locations = client.locations.list(\n",
    "    bbox= (27.191162,-27.264396,29.135742,-24.726875),\n",
    "    limit=1000\n",
    ")\n",
    "\n",
    "sa_bbox_locations.meta"
   ]
  },
  {
   "cell_type": "code",
   "execution_count": 37,
   "metadata": {},
   "outputs": [
    {
     "data": {
      "text/plain": [
       "{'id': 225393,\n",
       " 'name': 'Damonsville',\n",
       " 'locality': 'Bojanala Platinum',\n",
       " 'timezone': 'Africa/Johannesburg',\n",
       " 'country': CountryBase(id=37, code='ZA', name='South Africa'),\n",
       " 'owner': OwnerBase(id=4, name='Unknown Governmental Organization'),\n",
       " 'provider': ProviderBase(id=225, name='South Africa'),\n",
       " 'is_mobile': False,\n",
       " 'is_monitor': True,\n",
       " 'instruments': [InstrumentBase(id=2, name='Government Monitor')],\n",
       " 'sensors': [SensorBase(id=5079588, name='no ppm', parameter=ParameterBase(id=35, name='no', units='ppm', display_name='NO')),\n",
       "  SensorBase(id=1303604, name='no2 ppm', parameter=ParameterBase(id=7, name='no2', units='ppm', display_name='NO₂')),\n",
       "  SensorBase(id=5079589, name='nox ppm', parameter=ParameterBase(id=19840, name='nox', units='ppm', display_name='NOx')),\n",
       "  SensorBase(id=5079586, name='pm10 µg/m³', parameter=ParameterBase(id=1, name='pm10', units='µg/m³', display_name='PM10')),\n",
       "  SensorBase(id=5079587, name='pm25 µg/m³', parameter=ParameterBase(id=2, name='pm25', units='µg/m³', display_name='PM2.5')),\n",
       "  SensorBase(id=1303603, name='so2 ppm', parameter=ParameterBase(id=9, name='so2', units='ppm', display_name='SO₂'))],\n",
       " 'coordinates': Coordinates(latitude=-25.625702, longitude=27.851825),\n",
       " 'bounds': [27.851825, -25.625702, 27.851825, -25.625702],\n",
       " 'distance': None,\n",
       " 'datetime_first': Datetime(utc='2021-04-29T17:00:00Z', local='2021-04-29T19:00:00+02:00'),\n",
       " 'datetime_last': Datetime(utc='2024-02-29T22:00:00Z', local='2024-03-01T00:00:00+02:00')}"
      ]
     },
     "execution_count": 37,
     "metadata": {},
     "output_type": "execute_result"
    }
   ],
   "source": [
    "sa_bbox_locations.results[0].__dict__"
   ]
  },
  {
   "cell_type": "code",
   "execution_count": 38,
   "metadata": {},
   "outputs": [
    {
     "data": {
      "text/plain": [
       "{225393: 'Damonsville',\n",
       " 225400: 'Sebokeng',\n",
       " 225401: 'Bedfordview-NAQI',\n",
       " 225405: 'Bongani Mabaso Eco Park',\n",
       " 225406: 'Delmas MP',\n",
       " 225413: 'Leitrim',\n",
       " 225415: 'Marikana CC-NAQI',\n",
       " 225417: 'Zamdela-NAQI',\n",
       " 225419: 'Buccleugh-NAQI',\n",
       " 225424: 'Kliprivier',\n",
       " 225426: 'Olifantsfontein-NAQI',\n",
       " 225429: 'AJ Jacobs',\n",
       " 225430: 'Vanderbijlpark-NAQI',\n",
       " 225431: 'Balfour',\n",
       " 225434: 'Olievenhoutbosch-NAQI',\n",
       " 225436: 'Bodibeng-NAQI',\n",
       " 225437: 'Etwatwa-NAQI',\n",
       " 225439: 'Diepsloot',\n",
       " 225441: 'eMbalenhle North',\n",
       " 225445: 'Diepkloof-NAQI',\n",
       " 225446: 'Thokoza-NAQI',\n",
       " 225448: 'Jabavu-NAQI',\n",
       " 225449: 'Orange Farm',\n",
       " 225450: 'eMbalenhle South',\n",
       " 225451: 'Three Rivers',\n",
       " 225453: 'Booysens',\n",
       " 225455: 'Xanadu-NAQI',\n",
       " 225456: 'Alexandra-NAQI',\n",
       " 225459: 'Lebohang',\n",
       " 225461: 'Rosslyn-NAQI',\n",
       " 225462: 'Sharpeville',\n",
       " 225463: 'Embalenhle',\n",
       " 225662: 'Secunda',\n",
       " 225717: 'Ivory Park',\n",
       " 226316: 'Mamelodi',\n",
       " 229039: 'Springs-NAQI',\n",
       " 229192: 'North West University Vaal campus',\n",
       " 230803: 'Chicken Farm',\n",
       " 230806: 'Grootvlei - Eskom',\n",
       " 230811: 'Randwater',\n",
       " 230815: 'Mogale City',\n",
       " 230816: 'Eskom-Chicken Farm',\n",
       " 230817: 'Kendal',\n",
       " 230821: 'Phola',\n",
       " 234160: 'Tshwane Market',\n",
       " 234237: 'PTA West',\n",
       " 235851: 'Hammanskraal',\n",
       " 235950: 'Randfontein',\n",
       " 270294: 'Meyerton',\n",
       " 351880: 'ISAWS Laboratory',\n",
       " 352781: 'Wattville',\n",
       " 353596: 'Grootvlei - Sasol',\n",
       " 364067: 'Germiston - Delville',\n",
       " 364069: 'Tsakane',\n",
       " 364070: 'Boitekong',\n",
       " 409081: 'Davidsonville',\n",
       " 575078: 'Ekandustria',\n",
       " 1236026: 'North-West University Vanderbijilpark Campus',\n",
       " 1285341: 'SPARTAN - CSIR',\n",
       " 1321146: 'Glen Austin',\n",
       " 1321147: 'Midstream',\n",
       " 1362116: 'Glen Austin',\n",
       " 1447174: 'Mobile-Norplats',\n",
       " 1447175: 'Smashblock',\n",
       " 1527938: 'ES_Midstream',\n",
       " 1821379: 'ES_Heidelberg',\n",
       " 1869327: 'Quanta_Irene',\n",
       " 1888337: 'AMSA Vanderbijlpark Works',\n",
       " 1895692: 'Wonderkop Sibanye',\n",
       " 2385060: 'Eskom-Balmoral',\n",
       " 2385061: 'Eskom-Wilge',\n",
       " 2389721: 'Tembisa',\n",
       " 2506086: 'ES_Irene',\n",
       " 2847325: 'North-West University Vanderbijilpark Campus',\n",
       " 2847326: 'North-West University Vanderbijilpark Campus',\n",
       " 3021125: 'PTA-NORTH'}"
      ]
     },
     "execution_count": 38,
     "metadata": {},
     "output_type": "execute_result"
    }
   ],
   "source": [
    "locations_info = {}\n",
    "\n",
    "for location in sa_bbox_locations.results:\n",
    "    locations_info[location.id] = location.name\n",
    "\n",
    "locations_info"
   ]
  },
  {
   "cell_type": "code",
   "execution_count": 39,
   "metadata": {},
   "outputs": [],
   "source": [
    "with open(\"../locations.json\",\"w\",encoding=\"utf-8\") as f:\n",
    "    json.dump(locations_info,f,ensure_ascii=False,indent=4)\n",
    "    f.close()"
   ]
  }
 ],
 "metadata": {
  "kernelspec": {
   "display_name": "venv",
   "language": "python",
   "name": "python3"
  },
  "language_info": {
   "codemirror_mode": {
    "name": "ipython",
    "version": 3
   },
   "file_extension": ".py",
   "mimetype": "text/x-python",
   "name": "python",
   "nbconvert_exporter": "python",
   "pygments_lexer": "ipython3",
   "version": "3.12.3"
  }
 },
 "nbformat": 4,
 "nbformat_minor": 2
}
